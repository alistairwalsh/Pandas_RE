{
 "cells": [
  {
   "cell_type": "markdown",
   "metadata": {},
   "source": [
    "<div style=\" color:black; text-shadow: 1px 1px orange; font-size:2em;  background:url(images/12951395-absract-retro-burnt-flourish-classical-texture-Stock-Photo.jpg)\">\n",
    "    <h1 align=\"center\" >  Scientific Python</h1>\n",
    "\n",
    "    <img src=\"images/kundalini_pythons.png\" style=\"height:360px; right-pad:2cm; \" >\n",
    "</div>"
   ]
  },
  {
   "cell_type": "code",
   "execution_count": 45,
   "metadata": {
    "collapsed": false
   },
   "outputs": [
    {
     "data": {
      "text/html": [
       "<style>body {\n",
       "    margin: 0;\n",
       "    font-family: Helvetica;\n",
       "}\n",
       "table.dataframe {\n",
       "    border-collapse: collapse;\n",
       "    border: none;\n",
       "}\n",
       "table.dataframe tr {\n",
       "    border: none;\n",
       "}\n",
       "table.dataframe td, table.dataframe th {\n",
       "    margin: 0;\n",
       "    border: 1px solid white;\n",
       "    padding-left: 0.25em;\n",
       "    padding-right: 0.25em;\n",
       "}\n",
       "table.dataframe th:not(:empty) {\n",
       "    background-color: #fec;\n",
       "    text-align: left;\n",
       "    font-weight: normal;\n",
       "}\n",
       "table.dataframe tr:nth-child(2) th:empty {\n",
       "    border-left: none;\n",
       "    border-right: 1px dashed #888;\n",
       "}\n",
       "table.dataframe td {\n",
       "    border: 2px solid #ccf;\n",
       "    background-color: #f4f4ff;\n",
       "}\n",
       "h3 {\n",
       "    color: white;\n",
       "    background-color: black;\n",
       "    padding: 0.5em;\n",
       "}\n",
       "</style>"
      ],
      "text/plain": [
       "<IPython.core.display.HTML object>"
      ]
     },
     "execution_count": 45,
     "metadata": {},
     "output_type": "execute_result"
    }
   ],
   "source": [
    "from IPython.core.display import HTML\n",
    "css = open('style/style-table.css').read() + open('style/style-notebook.css').read()\n",
    "HTML('<style>{}</style>'.format(css))"
   ]
  },
  {
   "cell_type": "markdown",
   "metadata": {},
   "source": [
    "### Pandas iteration of rows"
   ]
  },
  {
   "cell_type": "markdown",
   "metadata": {},
   "source": [
    "The following code is an answer from stack overflow.\n",
    "\n",
    "The question was very complex \n",
    "\n",
    "  <blockquote> I need to extract substrings from a pandas df, and place them into a new column.\n",
    "\n",
    "    The strings I have look like:\n",
    "\n",
    "    hj_yu_fb824_as22,\n",
    "    jk_yu_fb638.\n",
    "\n",
    "    I need to extract:\n",
    "\n",
    "    fb824,\n",
    "    fb638\n",
    "      </blockquote>\n",
    "\n",
    "To add to the complexity, two columns need to be compared when looking for the string."
   ]
  },
  {
   "cell_type": "markdown",
   "metadata": {},
   "source": [
    "http://stackoverflow.com/questions/35315079/match-mixture-of-characters-and-digits-in-pandas"
   ]
  },
  {
   "cell_type": "code",
   "execution_count": 10,
   "metadata": {
    "collapsed": true
   },
   "outputs": [],
   "source": [
    "import pandas as pd\n",
    "from pandas import DataFrame\n",
    "import re"
   ]
  },
  {
   "cell_type": "markdown",
   "metadata": {},
   "source": [
    "This code creates an example dataframe"
   ]
  },
  {
   "cell_type": "code",
   "execution_count": 26,
   "metadata": {
    "collapsed": false
   },
   "outputs": [
    {
     "data": {
      "text/html": [
       "<div>\n",
       "<table border=\"1\" class=\"dataframe\">\n",
       "  <thead>\n",
       "    <tr style=\"text-align: right;\">\n",
       "      <th></th>\n",
       "      <th>col1</th>\n",
       "      <th>col2</th>\n",
       "    </tr>\n",
       "  </thead>\n",
       "  <tbody>\n",
       "    <tr>\n",
       "      <th>0</th>\n",
       "      <td>mf_lp_gn817_ml46</td>\n",
       "      <td>d_nb_05340.gif</td>\n",
       "    </tr>\n",
       "    <tr>\n",
       "      <th>1</th>\n",
       "      <td>desktop_300x250_mf</td>\n",
       "      <td>mf_lp_fb824_ml46.html</td>\n",
       "    </tr>\n",
       "    <tr>\n",
       "      <th>2</th>\n",
       "      <td>desktop_300x250_mf</td>\n",
       "      <td>dd_lp_ig805.html</td>\n",
       "    </tr>\n",
       "    <tr>\n",
       "      <th>3</th>\n",
       "      <td>desktop_728x90_mf</td>\n",
       "      <td>mf_lp_fb824_ml46.html</td>\n",
       "    </tr>\n",
       "  </tbody>\n",
       "</table>\n",
       "</div>"
      ],
      "text/plain": [
       "                 col1                    col2\n",
       "0    mf_lp_gn817_ml46         d_nb_05340.gif \n",
       "1  desktop_300x250_mf  mf_lp_fb824_ml46.html \n",
       "2  desktop_300x250_mf       dd_lp_ig805.html \n",
       "3   desktop_728x90_mf  mf_lp_fb824_ml46.html "
      ]
     },
     "execution_count": 26,
     "metadata": {},
     "output_type": "execute_result"
    }
   ],
   "source": [
    "df = DataFrame({'col1': {0: 'mf_lp_gn817_ml46',\n",
    " 1: 'desktop_300x250_mf',\n",
    " 2: 'desktop_300x250_mf',\n",
    " 3: 'desktop_728x90_mf'},\n",
    " 'col2': {0: 'd_nb_05340.gif ',\n",
    " 1: 'mf_lp_fb824_ml46.html ',\n",
    " 2: 'dd_lp_ig805.html ',\n",
    " 3: 'mf_lp_fb824_ml46.html '}})\n",
    "\n",
    "df"
   ]
  },
  {
   "cell_type": "markdown",
   "metadata": {},
   "source": [
    "The solution is extremely elegant. A regular expression that looks for 2 lowercase letters followed by 3 digits, all between an underscore and either an underscore or a fullstop. The 'r' means raw in python3\n",
    "\n",
    "```python\n",
    "prog = re.compile(r'_([a-z]{2}[0-9]{3})[_.]')\n",
    "```\n",
    "\n",
    "Each index/row of the dataframe is taken using iterows() and each column is examined in turn.\n",
    "    \n",
    "```python\n",
    "for index, row in df.iterrows():\n",
    "    for column in row.keys():\n",
    "```\n",
    "if the pattern exists in the cell, an answer will be stored in m\n",
    "\n",
    "```python\n",
    "m = prog.search(row[column])\n",
    "```    \n",
    "if m isn't empty, i.e. a match was found, the matching string is written to col3\n",
    "\n",
    "```python\n",
    "df.ix[index, 'col3'] = m.group(1)\n",
    "```"
   ]
  },
  {
   "cell_type": "code",
   "execution_count": 43,
   "metadata": {
    "collapsed": true
   },
   "outputs": [],
   "source": [
    "prog = re.compile(r'_([a-z]{2}[0-9]{3})[_.]')\n",
    "\n",
    "for index, row in df.iterrows():\n",
    "    for column in row.keys():\n",
    "        m = prog.search(row[column])\n",
    "        if m is not None:\n",
    "            df.ix[index, 'col3'] = m.group(1)"
   ]
  },
  {
   "cell_type": "code",
   "execution_count": 38,
   "metadata": {
    "collapsed": false
   },
   "outputs": [
    {
     "data": {
      "text/html": [
       "<div>\n",
       "<table border=\"1\" class=\"dataframe\">\n",
       "  <thead>\n",
       "    <tr style=\"text-align: right;\">\n",
       "      <th></th>\n",
       "      <th>col1</th>\n",
       "      <th>col2</th>\n",
       "      <th>col3</th>\n",
       "    </tr>\n",
       "  </thead>\n",
       "  <tbody>\n",
       "    <tr>\n",
       "      <th>0</th>\n",
       "      <td>mf_lp_gn817_ml46</td>\n",
       "      <td>d_nb_05340.gif</td>\n",
       "      <td>gn817</td>\n",
       "    </tr>\n",
       "    <tr>\n",
       "      <th>1</th>\n",
       "      <td>desktop_300x250_mf</td>\n",
       "      <td>mf_lp_fb824_ml46.html</td>\n",
       "      <td>fb824</td>\n",
       "    </tr>\n",
       "    <tr>\n",
       "      <th>2</th>\n",
       "      <td>desktop_300x250_mf</td>\n",
       "      <td>dd_lp_ig805.html</td>\n",
       "      <td>ig805</td>\n",
       "    </tr>\n",
       "    <tr>\n",
       "      <th>3</th>\n",
       "      <td>desktop_728x90_mf</td>\n",
       "      <td>mf_lp_fb824_ml46.html</td>\n",
       "      <td>fb824</td>\n",
       "    </tr>\n",
       "  </tbody>\n",
       "</table>\n",
       "</div>"
      ],
      "text/plain": [
       "                 col1                    col2   col3\n",
       "0    mf_lp_gn817_ml46         d_nb_05340.gif   gn817\n",
       "1  desktop_300x250_mf  mf_lp_fb824_ml46.html   fb824\n",
       "2  desktop_300x250_mf       dd_lp_ig805.html   ig805\n",
       "3   desktop_728x90_mf  mf_lp_fb824_ml46.html   fb824"
      ]
     },
     "execution_count": 38,
     "metadata": {},
     "output_type": "execute_result"
    }
   ],
   "source": [
    "df"
   ]
  },
  {
   "cell_type": "code",
   "execution_count": null,
   "metadata": {
    "collapsed": true
   },
   "outputs": [],
   "source": []
  }
 ],
 "metadata": {
  "kernelspec": {
   "display_name": "Python 3",
   "language": "python",
   "name": "python3"
  },
  "language_info": {
   "codemirror_mode": {
    "name": "ipython",
    "version": 3
   },
   "file_extension": ".py",
   "mimetype": "text/x-python",
   "name": "python",
   "nbconvert_exporter": "python",
   "pygments_lexer": "ipython3",
   "version": "3.5.1"
  }
 },
 "nbformat": 4,
 "nbformat_minor": 0
}
